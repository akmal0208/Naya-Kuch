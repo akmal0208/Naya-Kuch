{
  "nbformat": 4,
  "nbformat_minor": 0,
  "metadata": {
    "colab": {
      "name": "Untitled0.ipynb",
      "version": "0.3.2",
      "provenance": [],
      "include_colab_link": true
    },
    "kernelspec": {
      "name": "python3",
      "display_name": "Python 3"
    }
  },
  "cells": [
    {
      "cell_type": "markdown",
      "metadata": {
        "id": "view-in-github",
        "colab_type": "text"
      },
      "source": [
        "[View in Colaboratory](https://colab.research.google.com/github/akmal0208/Naya-Kuch/blob/master/Handwritten_num_recognition_ann.ipynb)"
      ]
    },
    {
      "metadata": {
        "id": "E7ftJgYSIFCw",
        "colab_type": "code",
        "colab": {
          "base_uri": "https://localhost:8080/",
          "height": 602
        },
        "outputId": "f27d1c39-fc12-492b-e9ef-ba2744b8e7a1"
      },
      "cell_type": "code",
      "source": [
        "import tensorflow as tf\n",
        "import matplotlib.pyplot as plt\n",
        "from tensorflow.examples.tutorials.mnist import input_data\n",
        "mnist = input_data.read_data_sets(\"/tmp/data/\", one_hot=True)\n",
        "# print(\"No of images in training set {}\".format(mnist.train.images.shape))\n",
        "# print(\"No of labels in training set {}\".format(mnist.train.labels.shape))\n",
        "# print(\"No of images in test set {}\".format(mnist.test.images.shape))\n",
        "# print(\"No of labels in test set {}\".format(mnist.test.labels.shape))\n",
        "img1 = mnist.train.images[54999].reshape(28,28)\n",
        "plt.imshow(img1, cmap = 'Greys')\n",
        "\n",
        "x = tf.placeholder(tf.float32, [None, 784])\n",
        "y = tf.placeholder(tf.float32, [None, 10])\n",
        "learning_rate = 0.1\n",
        "epochs = 10\n",
        "batch_size = 100\n",
        "w_xh = tf.Variable(tf.random_normal([784, 300], stddev=0.03), name='w_xh')\n",
        "b_h = tf.Variable(tf.random_normal([300]), name='b_h')\n",
        "w_hy = tf.Variable(tf.random_normal([300, 10], stddev=0.03), name='w_hy')\n",
        "b_y = tf.Variable(tf.random_normal([10]), name='b_y')\n",
        "\n",
        "z1 = tf.add(tf.matmul(x, w_xh), b_h)\n",
        "a1 = tf.nn.relu(z1)\n",
        "\n",
        "z2 = tf.add(tf.matmul(a1, w_hy), b_y)\n",
        "yhat = tf.nn.softmax(z2)\n",
        "\n",
        "cross_entropy = tf.reduce_mean(-tf.reduce_sum(y*tf.log(yhat),\n",
        "                                              reduction_indices = [1]))\n",
        "optimiser = tf.train.GradientDescentOptimizer(learning_rate=learning_rate).minimize(cross_entropy)\n",
        "correct_prediction = tf.equal(tf.argmax(y,1), tf.argmax(yhat,1))\n",
        "accuracy = tf.reduce_mean(tf.cast(correct_prediction, tf.float32))\n",
        "\n",
        "init_op = tf.global_variables_initializer()\n",
        "with tf.Session() as sess:\n",
        "   sess.run(init_op)\n",
        "   total_batch = int(len(mnist.train.labels) / batch_size)\n",
        "    \n",
        "   for epoch in range(epochs):\n",
        "        avg_cost = 0\n",
        "        \n",
        "        for i in range(total_batch):\n",
        "            batch_x, batch_y = mnist.train.next_batch(batch_size=batch_size)\n",
        "            \n",
        "            _, c = sess.run([optimiser, cross_entropy], \n",
        "                         feed_dict={x: batch_x, y: batch_y})\n",
        "            \n",
        "            avg_cost += c / total_batch\n",
        "            \n",
        "        print(\"Epoch:\", (epoch + 1), \"cost =\"\"{:.3f}\".format(avg_cost))\n",
        "        \n",
        "   print(sess.run(accuracy, feed_dict={x: mnist.test.images, y: mnist.test.labels}))\n",
        "\n",
        "                              "
      ],
      "execution_count": 17,
      "outputs": [
        {
          "output_type": "stream",
          "text": [
            "Extracting /tmp/data/train-images-idx3-ubyte.gz\n",
            "Extracting /tmp/data/train-labels-idx1-ubyte.gz\n",
            "Extracting /tmp/data/t10k-images-idx3-ubyte.gz\n",
            "Extracting /tmp/data/t10k-labels-idx1-ubyte.gz\n",
            "Epoch: 1 cost =0.545\n",
            "Epoch: 2 cost =0.293\n",
            "Epoch: 3 cost =0.239\n",
            "Epoch: 4 cost =0.197\n",
            "Epoch: 5 cost =0.166\n",
            "Epoch: 6 cost =0.143\n",
            "Epoch: 7 cost =0.126\n",
            "Epoch: 8 cost =0.112\n",
            "Epoch: 9 cost =0.101\n",
            "Epoch: 10 cost =0.092\n",
            "0.9703\n"
          ],
          "name": "stdout"
        },
        {
          "output_type": "display_data",
          "data": {
            "image/png": "[encoded data removed]",
            "text/plain": [
              "<matplotlib.figure.Figure at 0x7f28eb521e48>"
            ]
          },
          "metadata": {
            "tags": []
          }
        }
      ]
    }
  ]
}